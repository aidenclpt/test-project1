{
 "cells": [
  {
   "cell_type": "markdown",
   "metadata": {},
   "source": [
    "# Title\n",
    "\n"
   ]
  },
  {
   "cell_type": "code",
   "execution_count": 1,
   "metadata": {
    "collapsed": true
   },
   "outputs": [],
   "source": [
    "%matplotlib inline\n",
    "#stuff and junk and things and stuff\n",
    "\n",
    "from modsim import *\n",
    "\n",
    "from pandas import read_html"
   ]
  },
  {
   "cell_type": "code",
   "execution_count": 28,
   "metadata": {},
   "outputs": [
    {
     "data": {
      "text/html": [
       "<div>\n",
       "<style>\n",
       "    .dataframe thead tr:only-child th {\n",
       "        text-align: right;\n",
       "    }\n",
       "\n",
       "    .dataframe thead th {\n",
       "        text-align: left;\n",
       "    }\n",
       "\n",
       "    .dataframe tbody tr th {\n",
       "        vertical-align: top;\n",
       "    }\n",
       "</style>\n",
       "<table border=\"1\" class=\"dataframe\">\n",
       "  <thead>\n",
       "    <tr style=\"text-align: right;\">\n",
       "      <th></th>\n",
       "      <th>name</th>\n",
       "      <th>gender</th>\n",
       "      <th>birth year</th>\n",
       "    </tr>\n",
       "  </thead>\n",
       "  <tbody>\n",
       "    <tr>\n",
       "      <th>1</th>\n",
       "      <td>J17</td>\n",
       "      <td>F</td>\n",
       "      <td>1977</td>\n",
       "    </tr>\n",
       "    <tr>\n",
       "      <th>2</th>\n",
       "      <td>J19</td>\n",
       "      <td>F</td>\n",
       "      <td>1979</td>\n",
       "    </tr>\n",
       "    <tr>\n",
       "      <th>3</th>\n",
       "      <td>J22</td>\n",
       "      <td>F</td>\n",
       "      <td>1985</td>\n",
       "    </tr>\n",
       "    <tr>\n",
       "      <th>4</th>\n",
       "      <td>J26</td>\n",
       "      <td>M</td>\n",
       "      <td>1991</td>\n",
       "    </tr>\n",
       "    <tr>\n",
       "      <th>5</th>\n",
       "      <td>J27</td>\n",
       "      <td>M</td>\n",
       "      <td>1991</td>\n",
       "    </tr>\n",
       "    <tr>\n",
       "      <th>6</th>\n",
       "      <td>J31</td>\n",
       "      <td>F</td>\n",
       "      <td>1995</td>\n",
       "    </tr>\n",
       "    <tr>\n",
       "      <th>7</th>\n",
       "      <td>J35</td>\n",
       "      <td>F</td>\n",
       "      <td>1998</td>\n",
       "    </tr>\n",
       "    <tr>\n",
       "      <th>8</th>\n",
       "      <td>J36</td>\n",
       "      <td>F</td>\n",
       "      <td>1999</td>\n",
       "    </tr>\n",
       "    <tr>\n",
       "      <th>9</th>\n",
       "      <td>J37</td>\n",
       "      <td>F</td>\n",
       "      <td>2001</td>\n",
       "    </tr>\n",
       "    <tr>\n",
       "      <th>10</th>\n",
       "      <td>J38</td>\n",
       "      <td>M</td>\n",
       "      <td>2003</td>\n",
       "    </tr>\n",
       "    <tr>\n",
       "      <th>11</th>\n",
       "      <td>J39</td>\n",
       "      <td>M</td>\n",
       "      <td>2003</td>\n",
       "    </tr>\n",
       "    <tr>\n",
       "      <th>12</th>\n",
       "      <td>J40</td>\n",
       "      <td>F</td>\n",
       "      <td>2004</td>\n",
       "    </tr>\n",
       "    <tr>\n",
       "      <th>13</th>\n",
       "      <td>J41</td>\n",
       "      <td>F</td>\n",
       "      <td>2005</td>\n",
       "    </tr>\n",
       "    <tr>\n",
       "      <th>14</th>\n",
       "      <td>J42</td>\n",
       "      <td>F</td>\n",
       "      <td>2007</td>\n",
       "    </tr>\n",
       "    <tr>\n",
       "      <th>15</th>\n",
       "      <td>J44</td>\n",
       "      <td>M</td>\n",
       "      <td>2009</td>\n",
       "    </tr>\n",
       "    <tr>\n",
       "      <th>16</th>\n",
       "      <td>J45</td>\n",
       "      <td>M</td>\n",
       "      <td>2009</td>\n",
       "    </tr>\n",
       "    <tr>\n",
       "      <th>17</th>\n",
       "      <td>J46</td>\n",
       "      <td>F</td>\n",
       "      <td>2009</td>\n",
       "    </tr>\n",
       "    <tr>\n",
       "      <th>18</th>\n",
       "      <td>J47</td>\n",
       "      <td>M</td>\n",
       "      <td>2010</td>\n",
       "    </tr>\n",
       "    <tr>\n",
       "      <th>19</th>\n",
       "      <td>J49</td>\n",
       "      <td>M</td>\n",
       "      <td>2012</td>\n",
       "    </tr>\n",
       "    <tr>\n",
       "      <th>20</th>\n",
       "      <td>J50</td>\n",
       "      <td>F</td>\n",
       "      <td>2014</td>\n",
       "    </tr>\n",
       "    <tr>\n",
       "      <th>21</th>\n",
       "      <td>J51</td>\n",
       "      <td>M</td>\n",
       "      <td>2015</td>\n",
       "    </tr>\n",
       "  </tbody>\n",
       "</table>\n",
       "</div>"
      ],
      "text/plain": [
       "   name gender  birth year\n",
       "1   J17      F        1977\n",
       "2   J19      F        1979\n",
       "3   J22      F        1985\n",
       "4   J26      M        1991\n",
       "5   J27      M        1991\n",
       "6   J31      F        1995\n",
       "7   J35      F        1998\n",
       "8   J36      F        1999\n",
       "9   J37      F        2001\n",
       "10  J38      M        2003\n",
       "11  J39      M        2003\n",
       "12  J40      F        2004\n",
       "13  J41      F        2005\n",
       "14  J42      F        2007\n",
       "15  J44      M        2009\n",
       "16  J45      M        2009\n",
       "17  J46      F        2009\n",
       "18  J47      M        2010\n",
       "19  J49      M        2012\n",
       "20  J50      F        2014\n",
       "21  J51      M        2015"
      ]
     },
     "execution_count": 28,
     "metadata": {},
     "output_type": "execute_result"
    }
   ],
   "source": [
    "filename = 'Data/test1.html'\n",
    "tables = read_html(filename, header=0, index_col=0)\n",
    "tables\n",
    "\n",
    "table1 = tables[0]\n",
    "table1.columns = ['name', 'gender', 'birth year']\n",
    "table1\n",
    "\n",
    "\n",
    "#system = System(t0 = 0, \n",
    "#                t_end = 10,\n",
    "#                p0 = 10,\n",
    "#                birth_rate = 0.9,\n",
    "#                death_rate = 0.5)\n",
    "\n",
    "#system\n"
   ]
  },
  {
   "cell_type": "markdown",
   "metadata": {},
   "source": [
    "Here's a version of run_simulation, similar to the one in Chapter 3, with both births and deaths proportional to the current population."
   ]
  },
  {
   "cell_type": "code",
   "execution_count": null,
   "metadata": {
    "collapsed": true
   },
   "outputs": [],
   "source": [
    "def run_simulation(system):\n",
    "    \"\"\"Runs a proportional growth model.\n",
    "    \n",
    "    Adds TimeSeries to `system` as `results`.\n",
    "    \n",
    "    system: System object with t0, t_end, p0,\n",
    "            birth_rate and death_rate\n",
    "    \"\"\"\n",
    "    results = TimeSeries()\n",
    "    results[system.t0] = system.p0\n",
    "    for t in linrange(system.t0, system.t_end):\n",
    "        births = system.birth_rate * results[t]\n",
    "        deaths = system.death_rate * results[t]\n",
    "        results[t+1] = results[t] + births - deaths\n",
    "    system.results = results"
   ]
  },
  {
   "cell_type": "markdown",
   "metadata": {},
   "source": [
    "Now we can run the simulation and display the results:"
   ]
  },
  {
   "cell_type": "code",
   "execution_count": null,
   "metadata": {
    "collapsed": true
   },
   "outputs": [],
   "source": [
    "run_simulation(system)\n",
    "system.results"
   ]
  },
  {
   "cell_type": "markdown",
   "metadata": {},
   "source": [
    "Notice that the simulation actually runs one season past `t_end`.  That's an off-by-one error that I'll fix later, but for now we don't really care.\n",
    "\n",
    "The following function plots the results."
   ]
  },
  {
   "cell_type": "code",
   "execution_count": null,
   "metadata": {
    "collapsed": true
   },
   "outputs": [],
   "source": [
    "def plot_results(system, title=None):\n",
    "    \"\"\"Plot the estimates and the model.\n",
    "    \n",
    "    system: System object with `results`\n",
    "    \"\"\"\n",
    "    newfig()\n",
    "    plot(system.results, 'bo', label='rabbits')\n",
    "    decorate(xlabel='Season', \n",
    "             ylabel='Rabbit population',\n",
    "             title=title)"
   ]
  },
  {
   "cell_type": "markdown",
   "metadata": {},
   "source": [
    "And here's how we call it."
   ]
  },
  {
   "cell_type": "code",
   "execution_count": null,
   "metadata": {
    "collapsed": true
   },
   "outputs": [],
   "source": [
    "plot_results(system, title='Proportional growth model')"
   ]
  },
  {
   "cell_type": "markdown",
   "metadata": {},
   "source": [
    "Let's suppose our goal is to maximize the number of rabbits, so the metric we care about is the final population.  We can extract it from the results like this:"
   ]
  },
  {
   "cell_type": "code",
   "execution_count": null,
   "metadata": {
    "collapsed": true
   },
   "outputs": [],
   "source": [
    "def final_population(system):\n",
    "    t_end = system.results.index[-1]\n",
    "    return system.results[t_end]"
   ]
  },
  {
   "cell_type": "markdown",
   "metadata": {},
   "source": [
    "And call it like this:"
   ]
  },
  {
   "cell_type": "code",
   "execution_count": null,
   "metadata": {
    "collapsed": true
   },
   "outputs": [],
   "source": [
    "final_population(system)"
   ]
  },
  {
   "cell_type": "markdown",
   "metadata": {},
   "source": [
    "To explore the effect of the parameters on the results, we'll define `make_system`, which takes the system parameters as function parameters(!) and returns a `System` object:"
   ]
  },
  {
   "cell_type": "code",
   "execution_count": null,
   "metadata": {
    "collapsed": true
   },
   "outputs": [],
   "source": [
    "def make_system(birth_rate=0.9, death_rate=0.5):\n",
    "    \n",
    "    system = System(t0 = 0, \n",
    "                    t_end = 10,\n",
    "                    p0 = 10,\n",
    "                    birth_rate = birth_rate,\n",
    "                    death_rate = death_rate)\n",
    "    return system"
   ]
  },
  {
   "cell_type": "markdown",
   "metadata": {},
   "source": [
    "Now we can make a `System`, run a simulation, and extract a metric:"
   ]
  },
  {
   "cell_type": "code",
   "execution_count": null,
   "metadata": {
    "collapsed": true
   },
   "outputs": [],
   "source": [
    "system = make_system()\n",
    "run_simulation(system)\n",
    "final_population(system)"
   ]
  },
  {
   "cell_type": "markdown",
   "metadata": {},
   "source": [
    "To see the relationship between `birth_rate` and final population, we'll define `sweep_birth_rate`:"
   ]
  },
  {
   "cell_type": "code",
   "execution_count": null,
   "metadata": {
    "collapsed": true
   },
   "outputs": [],
   "source": [
    "def sweep_birth_rate(birth_rates, death_rate=0.5):\n",
    "    \n",
    "    for birth_rate in birth_rates:\n",
    "        system = make_system(birth_rate=birth_rate,\n",
    "                             death_rate=death_rate)\n",
    "        run_simulation(system)\n",
    "        p_end = final_population(system)\n",
    "        plot(birth_rate, p_end, 'gs', label='rabbits')\n",
    "        \n",
    "    decorate(xlabel='Births per rabbit per season',\n",
    "             ylabel='Final population')"
   ]
  },
  {
   "cell_type": "markdown",
   "metadata": {},
   "source": [
    "The first parameter of `sweep_birth_rate` is supposed to be an array; we can use `linspace` to make one."
   ]
  },
  {
   "cell_type": "code",
   "execution_count": null,
   "metadata": {
    "collapsed": true
   },
   "outputs": [],
   "source": [
    "birth_rates = linspace(0, 1, 21)\n",
    "birth_rates"
   ]
  },
  {
   "cell_type": "markdown",
   "metadata": {},
   "source": [
    "Now we can call `sweep_birth_rate`.\n",
    "\n",
    "The resulting figure shows the final population for a range of values of `birth_rate`.\n",
    "\n",
    "Confusingly, the results from a parameter sweep sometimes resemble a time series.  It is very important to remember the difference.  One way to avoid confusion: LABEL THE AXES.\n",
    "\n",
    "In the following figure, the x-axis is `birth_rate`, NOT TIME."
   ]
  },
  {
   "cell_type": "code",
   "execution_count": null,
   "metadata": {
    "collapsed": true
   },
   "outputs": [],
   "source": [
    "birth_rates = linspace(0, 1, 21)\n",
    "sweep_birth_rate(birth_rates)"
   ]
  },
  {
   "cell_type": "markdown",
   "metadata": {},
   "source": [
    "The code to sweep the death rate is similar."
   ]
  },
  {
   "cell_type": "code",
   "execution_count": null,
   "metadata": {
    "collapsed": true
   },
   "outputs": [],
   "source": [
    "def sweep_death_rate(death_rates, birth_rate=0.9):\n",
    "    \n",
    "    for death_rate in death_rates:\n",
    "        system = make_system(birth_rate=birth_rate,\n",
    "                             death_rate=death_rate)\n",
    "        run_simulation(system)\n",
    "        p_end = final_population(system)\n",
    "        plot(death_rate, p_end, 'r^', label='rabbits')\n",
    "        \n",
    "    decorate(xlabel='Deaths per rabbit per season',\n",
    "             ylabel='Final population')"
   ]
  },
  {
   "cell_type": "markdown",
   "metadata": {},
   "source": [
    "And here are the results.  Again, the x-axis is `death_rate`, NOT TIME."
   ]
  },
  {
   "cell_type": "code",
   "execution_count": null,
   "metadata": {
    "collapsed": true
   },
   "outputs": [],
   "source": [
    "death_rates = linspace(0.1, 1, 20)\n",
    "sweep_death_rate(death_rates)"
   ]
  },
  {
   "cell_type": "markdown",
   "metadata": {},
   "source": [
    "In the previous sweeps, we hold one parameter constant and sweep the other.\n",
    "\n",
    "You can also sweep more than one variable at a time, and plot multiple lines on a single axis.\n",
    "\n",
    "To keep the figure from getting too cluttered, I'll reduce the number of values in `birth_rates`:"
   ]
  },
  {
   "cell_type": "code",
   "execution_count": null,
   "metadata": {
    "collapsed": true
   },
   "outputs": [],
   "source": [
    "birth_rates = linspace(0.4, 1, 4)\n",
    "birth_rates"
   ]
  },
  {
   "cell_type": "markdown",
   "metadata": {},
   "source": [
    "By putting one for loop inside another, we can enumerate all pairs of values.\n",
    "\n",
    "The results show 4 lines, one for each value of `birth_rate`.\n",
    "\n",
    "(I did not plot the lines between the data points because of a limitation in `plot`.)"
   ]
  },
  {
   "cell_type": "code",
   "execution_count": null,
   "metadata": {
    "collapsed": true
   },
   "outputs": [],
   "source": [
    "for birth_rate in birth_rates:\n",
    "    for death_rate in death_rates:\n",
    "        system = make_system(birth_rate=birth_rate,\n",
    "                             death_rate=death_rate)\n",
    "        run_simulation(system)\n",
    "        p_end = final_population(system)\n",
    "        plot(death_rate, p_end, 'c^', label='rabbits')\n",
    "        \n",
    "decorate(xlabel='Deaths per rabbit per season',\n",
    "         ylabel='Final population')"
   ]
  },
  {
   "cell_type": "markdown",
   "metadata": {},
   "source": [
    "If you suspect that the results depend on the difference between `birth_rate` and `death_rate`, you could run the same loop, plotting the \"net birth rate\" on the x axis.\n",
    "\n",
    "If you are right, the results will fall on a single curve, which means that knowing the difference is sufficient to predict the outcome; you don't actually have to know the two parameters separately."
   ]
  },
  {
   "cell_type": "code",
   "execution_count": null,
   "metadata": {
    "collapsed": true
   },
   "outputs": [],
   "source": [
    "for birth_rate in birth_rates:\n",
    "    for death_rate in death_rates:\n",
    "        system = make_system(birth_rate=birth_rate,\n",
    "                             death_rate=death_rate)\n",
    "        run_simulation(system)\n",
    "        p_end = final_population(system)\n",
    "        net_birth_rate = birth_rate - death_rate\n",
    "        plot(net_birth_rate, p_end, 'mv', label='rabbits')\n",
    "        \n",
    "decorate(xlabel='Net births per rabbit per season',\n",
    "         ylabel='Final population')"
   ]
  },
  {
   "cell_type": "markdown",
   "metadata": {},
   "source": [
    "On the other hand, if you guess that the results depend on the ratio of the parameters, rather than the difference, you could check by plotting the ratio on the x axis.\n",
    "\n",
    "If the results don't fall on a single curve, that suggests that the ratio alone is not sufficient to predict the outcome. "
   ]
  },
  {
   "cell_type": "code",
   "execution_count": null,
   "metadata": {
    "collapsed": true
   },
   "outputs": [],
   "source": [
    "for birth_rate in birth_rates:\n",
    "    for death_rate in death_rates:\n",
    "        system = make_system(birth_rate=birth_rate,\n",
    "                             death_rate=death_rate)\n",
    "        run_simulation(system)\n",
    "        p_end = final_population(system)\n",
    "        birth_ratio = birth_rate / death_rate\n",
    "        plot(birth_ratio, p_end, 'y>', label='rabbits')\n",
    "        \n",
    "decorate(xlabel='Ratio of births to deaths',\n",
    "         ylabel='Final population')"
   ]
  },
  {
   "cell_type": "code",
   "execution_count": null,
   "metadata": {
    "collapsed": true
   },
   "outputs": [],
   "source": []
  }
 ],
 "metadata": {
  "kernelspec": {
   "display_name": "Python 3",
   "language": "python",
   "name": "python3"
  },
  "language_info": {
   "codemirror_mode": {
    "name": "ipython",
    "version": 3
   },
   "file_extension": ".py",
   "mimetype": "text/x-python",
   "name": "python",
   "nbconvert_exporter": "python",
   "pygments_lexer": "ipython3",
   "version": "3.6.1"
  }
 },
 "nbformat": 4,
 "nbformat_minor": 1
}
